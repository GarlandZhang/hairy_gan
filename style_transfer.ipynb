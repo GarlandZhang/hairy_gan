{
  "nbformat": 4,
  "nbformat_minor": 0,
  "metadata": {
    "colab": {
      "name": "style_transfer.ipynb",
      "provenance": [],
      "mount_file_id": "1nQemdyATZFsb45WPi-0AooX-YazS3J8s",
      "authorship_tag": "ABX9TyMp5rVnfI/eSipiS/pBd5mI",
      "include_colab_link": true
    },
    "kernelspec": {
      "name": "python3",
      "display_name": "Python 3"
    }
  },
  "cells": [
    {
      "cell_type": "markdown",
      "metadata": {
        "id": "view-in-github",
        "colab_type": "text"
      },
      "source": [
        "<a href=\"https://colab.research.google.com/github/GarlandZhang/hairy_gan/blob/master/style_transfer.ipynb\" target=\"_parent\"><img src=\"https://colab.research.google.com/assets/colab-badge.svg\" alt=\"Open In Colab\"/></a>"
      ]
    },
    {
      "cell_type": "code",
      "metadata": {
        "id": "bX160B-hEFGk",
        "colab_type": "code",
        "colab": {
          "base_uri": "https://localhost:8080/",
          "height": 92
        },
        "outputId": "b35469fd-e305-414e-8388-8710295a37c7"
      },
      "source": [
        "import tensorflow as tf\n",
        "from tensorflow.python.keras.preprocessing import image as kp_image\n",
        "\n",
        "from keras.applications.vgg19 import VGG19\n",
        "from keras.models import Model\n",
        "from keras import backend as K\n",
        "\n",
        "from PIL import Image\n",
        "\n",
        "import numpy as np\n",
        "\n",
        "import os\n",
        "tf.compat.v1.disable_v2_behavior()"
      ],
      "execution_count": 15,
      "outputs": [
        {
          "output_type": "stream",
          "text": [
            "WARNING:tensorflow:From /usr/local/lib/python3.6/dist-packages/tensorflow/python/compat/v2_compat.py:96: disable_resource_variables (from tensorflow.python.ops.variable_scope) is deprecated and will be removed in a future version.\n",
            "Instructions for updating:\n",
            "non-resource variables are not supported in the long term\n"
          ],
          "name": "stdout"
        }
      ]
    },
    {
      "cell_type": "code",
      "metadata": {
        "id": "pp-G9-MDr5O9",
        "colab_type": "code",
        "colab": {}
      },
      "source": [
        "# list of layers to caulcate for content and style loss\n",
        "content_layers = ['block3_conv3']\n",
        "style_layers = ['block1_conv1', 'block2_conv2', 'block4_conv3']\n",
        "\n",
        "num_content_layers = len(content_layers)\n",
        "num_style_layers = len(style_layers)\n",
        "\n",
        "project_path = '/content/drive/My Drive/hairy_gan'\n",
        "content_img_path = os.path.join(project_path, 'content.jpg')\n",
        "style_img_path = os.path.join(project_path, 'style.jpg')\n",
        "save_img_path = os.path.join(project_path, 'generated.jpg')\n",
        "\n",
        "vgg_weights_path = os.path.join(project_path, 'vgg19_weights_tf_dim_ordering_tf_kernels_notop.h5')"
      ],
      "execution_count": 3,
      "outputs": []
    },
    {
      "cell_type": "code",
      "metadata": {
        "id": "EB15q5wwWkWL",
        "colab_type": "code",
        "colab": {}
      },
      "source": [
        "# preprocess image\n",
        "def load_img(img_path):\n",
        "  img = Image.open(img_path)\n",
        "\n",
        "  # resize to max dimension\n",
        "  max_dim = 512\n",
        "  img_size = max(img.size)\n",
        "  scale = max_dim / img_size \n",
        "  img = img.resize((round(img.size[0] * scale), round(img.size[1] * scale)), Image.ANTIALIAS)\n",
        "\n",
        "  img = np.expand_dims(img, axis=0)\n",
        "\n",
        "  # required step to run vgg19\n",
        "  out = tf.keras.applications.vgg19.preprocess_input(img)\n",
        "\n",
        "  return out\n",
        "\n",
        "# postprocess image\n",
        "def postprocess_img(processed_img):\n",
        "  img = processed_img.copy()\n",
        "\n",
        "  img[:, :, 0] += 103.939\n",
        "  img[:, :, 1] += 116.779\n",
        "  img[:, :, 2] += 123.68\n",
        "\n",
        "  img = img[:, :, ::-1]\n",
        "\n",
        "  img = np.clip(img, 0, 255).astype('uint8')\n",
        "\n",
        "  return img"
      ],
      "execution_count": 6,
      "outputs": []
    },
    {
      "cell_type": "code",
      "metadata": {
        "id": "VE7hMxGxXCYb",
        "colab_type": "code",
        "colab": {}
      },
      "source": [
        "# build loss functions from scratch\n",
        "\n",
        "def gram_matrix(input_tensor):\n",
        "  # 3D => 2D matrix: nh * nw * nc => nc * (nh * nw)\n",
        "  channels = int(input_tensor.shape[-1])\n",
        "  a = tf.reshape(input_tensor, [-1, channels])\n",
        "  n = tf.shape(a)[0]\n",
        "\n",
        "  gram = tf.matmul(a, a, transpose_a=True)\n",
        "\n",
        "  return gram\n",
        "\n",
        "def get_style_loss(base_style, gram_target): # base_style is generated layer output, gram_target is style layer output\n",
        "  height, width, channels = base_style.get_shape().as_list()\n",
        "\n",
        "  gram_style = gram_matrix(base_style)\n",
        "\n",
        "  return tf.reduce_mean(tf.square(gram_style - gram_target)) / (channels**2 * width * height) #(4.0 * (channels ** 2) * (width * height) ** 2)\n",
        "\n",
        "def get_content_loss(content, target): # content is new generated image, target is original image\n",
        "  return tf.reduce_mean(tf.square(content - target)) / 2\n",
        "\n",
        "def get_total_style_loss(gen_style_features, gram_style_features):\n",
        "  style_score = 0\n",
        "\n",
        "  for target_style, comb_style in zip(gram_style_features, gen_style_features):\n",
        "    style_score = style_score + get_style_loss(comb_style[0], target_style) \n",
        "\n",
        "  return style_score\n",
        "\n",
        "def get_total_content_loss(gen_content_features, content_features):\n",
        "  content_score = 0\n",
        "\n",
        "  for target_content, comb_content in zip(content_features, gen_content_features):\n",
        "    content_score = content_score + get_content_loss(comb_content[0], target_content)\n",
        "\n",
        "  return content_score\n",
        "\n",
        "def compute_loss(loss_weights, generated_output_activations, gram_style_features, content_features, num_content_layers, num_style_layers):\n",
        "  gen_style_features, gen_content_features = generated_output_activations\n",
        "\n",
        "  style_score = 0\n",
        "  content_score = 0\n",
        "\n",
        "  # accumulate style losses from all layers\n",
        "  # weight the same fore ach layer\n",
        "  weight_per_style_layer = 1.0 / float(num_style_layers)\n",
        "  style_score = get_total_style_loss(gen_style_features, gram_style_features)\n",
        "\n",
        "  weight_per_content_layer = 1.0 / float(num_content_layers)\n",
        "  content_score = get_total_content_loss(gen_content_features, content_features)\n",
        "\n",
        "  loss = style_weight * style_score + content_weight * content_score\n",
        "\n",
        "  return loss, style_score, content_score"
      ],
      "execution_count": 7,
      "outputs": []
    },
    {
      "cell_type": "code",
      "metadata": {
        "id": "CEb1p7PwVUZT",
        "colab_type": "code",
        "colab": {}
      },
      "source": [
        "# get feature outputs for style and content images\n",
        "def get_feature_representations(model, content_img_path, style_img_path):\n",
        "\n",
        "  content_img = load_img(content_img_path)\n",
        "  style_img = load_img(style_img_path)\n",
        "\n",
        "  content_outputs, _ = model.predict(content_img) # only get content features of content image (dont care about style)\n",
        "  _, style_outputs = model.predict(style_img) # only get style features of style image\n",
        "\n",
        "  content_features = [ content_layer[0] for content_layer in content_outputs ]\n",
        "  style_features = [ style_layer[0] for style_layer in style_outputs ]\n",
        "\n",
        "  return style_features, content_features"
      ],
      "execution_count": 9,
      "outputs": []
    },
    {
      "cell_type": "code",
      "metadata": {
        "id": "KWirJovvR1a4",
        "colab_type": "code",
        "colab": {}
      },
      "source": [
        "def build_model(content_layers, style_layers, loss_weights, vgg_weights):\n",
        "  vgg19 = VGG19(weights=None, include_top=False)\n",
        "  vgg19.trainable = False # pretrained; don't touch\n",
        "\n",
        "  content_model_outputs = [vgg19.get_layer(layer).output for layer in content_layers]\n",
        "  style_model_outputs = [vgg19.get_layer(layer).output for layer in style_layers]\n",
        "\n",
        "  model = Model(inputs=vgg19.input, outputs=[style_model_outputs, content_model_outputs])\n",
        "\n",
        "  model.compile(loss=[get_total_style_loss, get_total_content_loss], loss_weights=loss_weights, optimizer=Adam())\n",
        "\n",
        "  vgg19.load_weights(vgg_weights)\n",
        "\n",
        "  return model, vgg19 # takes part of model up to the last output "
      ],
      "execution_count": 5,
      "outputs": []
    },
    {
      "cell_type": "code",
      "metadata": {
        "id": "zImZRuVjUniM",
        "colab_type": "code",
        "colab": {}
      },
      "source": [
        "def run_style_transfer(content_img_path, style_img_path, save_img_path, num_iterations=200, content_weight=0.1, style_weight=0.9):\n",
        "  # sess = tf.compat.v1.Session()\n",
        "  # tf.compat.v1.keras.backend.set_session(sess)\n",
        "\n",
        "  model, vgg19 = build_model(content_layers, style_layers)\n",
        "\n",
        "  # the loss is only updated if the current loss is better (i.e lesser) than the previous loss\n",
        "  best_loss, best_img = None, None\n",
        "\n",
        "  # get layer outputs from the content image and style image\n",
        "  style_features, content_features = get_feature_representations(model, content_img_path, style_img_path)\n",
        "\n",
        "  # get gram matrix values to prepare for total loss calc\n",
        "  gram_style_features = [gram_matrix(style_feature) for style_feature in style_features]\n",
        "\n",
        "  # get layer outputs for generated image\n",
        "  generated_image = load_img(content_img_path)\n",
        "\n",
        "  for i in range(num_iterations):\n",
        "    history = model.fit(generated_image, [gram_style_features, content_features])\n",
        "    loss = history.history['loss']\n",
        "\n",
        "    if best_loss == None or loss < best_loss:\n",
        "      best_loss = loss\n",
        "      best_img = postprocess_img(generated_img)\n",
        "\n",
        "      print(f'best loss: {best_loss}')\n",
        "\n",
        "    if (i + 1) % 100 == 0:\n",
        "      output = Image.fromarray(best_img)\n",
        "      output.save(os.path.join(project_path, f'{i + 1}-{save_img_path}'))\n",
        "\n",
        "      # save model\n",
        "      model.save_weights(os.path.join(project_path, 'style_transfer.weights'))\n",
        "\n",
        "  # how to use this?\n",
        "  # VGG default normalization\n",
        "  norm_means = np.array([103.939, 116.779, 123.68])\n",
        "  min_vals = -norm_means\n",
        "  max_vals = 255 - norm_means\n",
        "\n",
        "  return best_img, best_loss"
      ],
      "execution_count": 13,
      "outputs": []
    },
    {
      "cell_type": "code",
      "metadata": {
        "id": "WP18sz5NUo2Q",
        "colab_type": "code",
        "colab": {
          "base_uri": "https://localhost:8080/",
          "height": 849
        },
        "outputId": "2f4aa372-e077-4641-9535-0451b5edc907"
      },
      "source": [
        "best, best_loss = run_style_transfer(content_img_path, style_img_path, save_img_path)"
      ],
      "execution_count": 14,
      "outputs": [
        {
          "output_type": "error",
          "ename": "ValueError",
          "evalue": "ignored",
          "traceback": [
            "\u001b[0;31m---------------------------------------------------------------------------\u001b[0m",
            "\u001b[0;31mValueError\u001b[0m                                Traceback (most recent call last)",
            "\u001b[0;32m<ipython-input-14-db97f9004b47>\u001b[0m in \u001b[0;36m<module>\u001b[0;34m()\u001b[0m\n\u001b[0;32m----> 1\u001b[0;31m \u001b[0mbest\u001b[0m\u001b[0;34m,\u001b[0m \u001b[0mbest_loss\u001b[0m \u001b[0;34m=\u001b[0m \u001b[0mrun_style_transfer\u001b[0m\u001b[0;34m(\u001b[0m\u001b[0mcontent_img_path\u001b[0m\u001b[0;34m,\u001b[0m \u001b[0mstyle_img_path\u001b[0m\u001b[0;34m,\u001b[0m \u001b[0msave_img_path\u001b[0m\u001b[0;34m)\u001b[0m\u001b[0;34m\u001b[0m\u001b[0;34m\u001b[0m\u001b[0m\n\u001b[0m",
            "\u001b[0;32m<ipython-input-13-30b7b72621de>\u001b[0m in \u001b[0;36mrun_style_transfer\u001b[0;34m(content_img_path, style_img_path, save_img_path, num_iterations, content_weight, style_weight)\u001b[0m\n\u001b[1;32m      3\u001b[0m   \u001b[0;31m# tf.compat.v1.keras.backend.set_session(sess)\u001b[0m\u001b[0;34m\u001b[0m\u001b[0;34m\u001b[0m\u001b[0;34m\u001b[0m\u001b[0m\n\u001b[1;32m      4\u001b[0m \u001b[0;34m\u001b[0m\u001b[0m\n\u001b[0;32m----> 5\u001b[0;31m   \u001b[0mmodel\u001b[0m\u001b[0;34m,\u001b[0m \u001b[0mvgg19\u001b[0m \u001b[0;34m=\u001b[0m \u001b[0mbuild_model\u001b[0m\u001b[0;34m(\u001b[0m\u001b[0mcontent_layers\u001b[0m\u001b[0;34m,\u001b[0m \u001b[0mstyle_layers\u001b[0m\u001b[0;34m)\u001b[0m\u001b[0;34m\u001b[0m\u001b[0;34m\u001b[0m\u001b[0m\n\u001b[0m\u001b[1;32m      6\u001b[0m \u001b[0;34m\u001b[0m\u001b[0m\n\u001b[1;32m      7\u001b[0m   \u001b[0;31m# the loss is only updated if the current loss is better (i.e lesser) than the previous loss\u001b[0m\u001b[0;34m\u001b[0m\u001b[0;34m\u001b[0m\u001b[0;34m\u001b[0m\u001b[0m\n",
            "\u001b[0;32m<ipython-input-5-938354474727>\u001b[0m in \u001b[0;36mbuild_model\u001b[0;34m(content_layers, style_layers)\u001b[0m\n\u001b[1;32m      6\u001b[0m   \u001b[0mstyle_model_outputs\u001b[0m \u001b[0;34m=\u001b[0m \u001b[0;34m[\u001b[0m\u001b[0mvgg19\u001b[0m\u001b[0;34m.\u001b[0m\u001b[0mget_layer\u001b[0m\u001b[0;34m(\u001b[0m\u001b[0mlayer\u001b[0m\u001b[0;34m)\u001b[0m\u001b[0;34m.\u001b[0m\u001b[0moutput\u001b[0m \u001b[0;32mfor\u001b[0m \u001b[0mlayer\u001b[0m \u001b[0;32min\u001b[0m \u001b[0mstyle_layers\u001b[0m\u001b[0;34m]\u001b[0m\u001b[0;34m\u001b[0m\u001b[0;34m\u001b[0m\u001b[0m\n\u001b[1;32m      7\u001b[0m \u001b[0;34m\u001b[0m\u001b[0m\n\u001b[0;32m----> 8\u001b[0;31m   \u001b[0mmodel\u001b[0m \u001b[0;34m=\u001b[0m \u001b[0mModel\u001b[0m\u001b[0;34m(\u001b[0m\u001b[0minputs\u001b[0m\u001b[0;34m=\u001b[0m\u001b[0mvgg19\u001b[0m\u001b[0;34m.\u001b[0m\u001b[0minput\u001b[0m\u001b[0;34m,\u001b[0m \u001b[0moutputs\u001b[0m\u001b[0;34m=\u001b[0m\u001b[0;34m[\u001b[0m\u001b[0mcontent_model_outputs\u001b[0m\u001b[0;34m,\u001b[0m \u001b[0mstyle_model_outputs\u001b[0m\u001b[0;34m]\u001b[0m\u001b[0;34m)\u001b[0m\u001b[0;34m\u001b[0m\u001b[0;34m\u001b[0m\u001b[0m\n\u001b[0m\u001b[1;32m      9\u001b[0m \u001b[0;34m\u001b[0m\u001b[0m\n\u001b[1;32m     10\u001b[0m   \u001b[0;32mreturn\u001b[0m \u001b[0mmodel\u001b[0m\u001b[0;34m,\u001b[0m \u001b[0mvgg19\u001b[0m \u001b[0;31m# takes part of model up to the last output\u001b[0m\u001b[0;34m\u001b[0m\u001b[0;34m\u001b[0m\u001b[0m\n",
            "\u001b[0;32m/usr/local/lib/python3.6/dist-packages/keras/legacy/interfaces.py\u001b[0m in \u001b[0;36mwrapper\u001b[0;34m(*args, **kwargs)\u001b[0m\n\u001b[1;32m     89\u001b[0m                 warnings.warn('Update your `' + object_name + '` call to the ' +\n\u001b[1;32m     90\u001b[0m                               'Keras 2 API: ' + signature, stacklevel=2)\n\u001b[0;32m---> 91\u001b[0;31m             \u001b[0;32mreturn\u001b[0m \u001b[0mfunc\u001b[0m\u001b[0;34m(\u001b[0m\u001b[0;34m*\u001b[0m\u001b[0margs\u001b[0m\u001b[0;34m,\u001b[0m \u001b[0;34m**\u001b[0m\u001b[0mkwargs\u001b[0m\u001b[0;34m)\u001b[0m\u001b[0;34m\u001b[0m\u001b[0;34m\u001b[0m\u001b[0m\n\u001b[0m\u001b[1;32m     92\u001b[0m         \u001b[0mwrapper\u001b[0m\u001b[0;34m.\u001b[0m\u001b[0m_original_function\u001b[0m \u001b[0;34m=\u001b[0m \u001b[0mfunc\u001b[0m\u001b[0;34m\u001b[0m\u001b[0;34m\u001b[0m\u001b[0m\n\u001b[1;32m     93\u001b[0m         \u001b[0;32mreturn\u001b[0m \u001b[0mwrapper\u001b[0m\u001b[0;34m\u001b[0m\u001b[0;34m\u001b[0m\u001b[0m\n",
            "\u001b[0;32m/usr/local/lib/python3.6/dist-packages/keras/engine/network.py\u001b[0m in \u001b[0;36m__init__\u001b[0;34m(self, *args, **kwargs)\u001b[0m\n\u001b[1;32m     92\u001b[0m                 'inputs' in kwargs and 'outputs' in kwargs):\n\u001b[1;32m     93\u001b[0m             \u001b[0;31m# Graph network\u001b[0m\u001b[0;34m\u001b[0m\u001b[0;34m\u001b[0m\u001b[0;34m\u001b[0m\u001b[0m\n\u001b[0;32m---> 94\u001b[0;31m             \u001b[0mself\u001b[0m\u001b[0;34m.\u001b[0m\u001b[0m_init_graph_network\u001b[0m\u001b[0;34m(\u001b[0m\u001b[0;34m*\u001b[0m\u001b[0margs\u001b[0m\u001b[0;34m,\u001b[0m \u001b[0;34m**\u001b[0m\u001b[0mkwargs\u001b[0m\u001b[0;34m)\u001b[0m\u001b[0;34m\u001b[0m\u001b[0;34m\u001b[0m\u001b[0m\n\u001b[0m\u001b[1;32m     95\u001b[0m         \u001b[0;32melse\u001b[0m\u001b[0;34m:\u001b[0m\u001b[0;34m\u001b[0m\u001b[0;34m\u001b[0m\u001b[0m\n\u001b[1;32m     96\u001b[0m             \u001b[0;31m# Subclassed network\u001b[0m\u001b[0;34m\u001b[0m\u001b[0;34m\u001b[0m\u001b[0;34m\u001b[0m\u001b[0m\n",
            "\u001b[0;32m/usr/local/lib/python3.6/dist-packages/keras/engine/network.py\u001b[0m in \u001b[0;36m_init_graph_network\u001b[0;34m(self, inputs, outputs, name, **kwargs)\u001b[0m\n\u001b[1;32m    196\u001b[0m                                  \u001b[0;34m'the output of a Keras `Layer` '\u001b[0m\u001b[0;34m\u001b[0m\u001b[0;34m\u001b[0m\u001b[0m\n\u001b[1;32m    197\u001b[0m                                  \u001b[0;34m'(thus holding past layer metadata). '\u001b[0m\u001b[0;34m\u001b[0m\u001b[0;34m\u001b[0m\u001b[0m\n\u001b[0;32m--> 198\u001b[0;31m                                  'Found: ' + str(x))\n\u001b[0m\u001b[1;32m    199\u001b[0m         \u001b[0mself\u001b[0m\u001b[0;34m.\u001b[0m\u001b[0m_base_init\u001b[0m\u001b[0;34m(\u001b[0m\u001b[0mname\u001b[0m\u001b[0;34m=\u001b[0m\u001b[0mname\u001b[0m\u001b[0;34m,\u001b[0m \u001b[0;34m**\u001b[0m\u001b[0mkwargs\u001b[0m\u001b[0;34m)\u001b[0m\u001b[0;34m\u001b[0m\u001b[0;34m\u001b[0m\u001b[0m\n\u001b[1;32m    200\u001b[0m         self._compute_previous_mask = (\n",
            "\u001b[0;31mValueError\u001b[0m: Output tensors to a Model must be the output of a Keras `Layer` (thus holding past layer metadata). Found: [<tf.Tensor 'block3_conv3_1/Relu:0' shape=(None, None, None, 256) dtype=float32>]"
          ]
        }
      ]
    },
    {
      "cell_type": "code",
      "metadata": {
        "id": "lImknusy9LRk",
        "colab_type": "code",
        "colab": {}
      },
      "source": [
        ""
      ],
      "execution_count": null,
      "outputs": []
    }
  ]
}